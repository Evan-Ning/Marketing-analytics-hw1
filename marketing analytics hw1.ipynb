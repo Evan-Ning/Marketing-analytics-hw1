{
 "cells": [
  {
   "cell_type": "code",
   "execution_count": 2,
   "id": "67097931-71fd-45d2-b8df-59f06303a568",
   "metadata": {},
   "outputs": [],
   "source": [
    "#import packages\n",
    "import sys\n",
    "import pandas as pd\n",
    "import os\n",
    "import operator\n",
    "import numpy as np"
   ]
  },
  {
   "cell_type": "code",
   "execution_count": 3,
   "id": "89ea7fd8-05fe-4650-b443-c9c69df1923b",
   "metadata": {},
   "outputs": [],
   "source": [
    "data=pd.read_csv('AB_test_data.csv')"
   ]
  },
  {
   "cell_type": "code",
   "execution_count": 4,
   "id": "10d06784-b935-4f30-9336-1056db34ef1c",
   "metadata": {},
   "outputs": [
    {
     "data": {
      "text/html": [
       "<div>\n",
       "<style scoped>\n",
       "    .dataframe tbody tr th:only-of-type {\n",
       "        vertical-align: middle;\n",
       "    }\n",
       "\n",
       "    .dataframe tbody tr th {\n",
       "        vertical-align: top;\n",
       "    }\n",
       "\n",
       "    .dataframe thead th {\n",
       "        text-align: right;\n",
       "    }\n",
       "</style>\n",
       "<table border=\"1\" class=\"dataframe\">\n",
       "  <thead>\n",
       "    <tr style=\"text-align: right;\">\n",
       "      <th></th>\n",
       "      <th>purchase_TF</th>\n",
       "      <th>Variant</th>\n",
       "      <th>date</th>\n",
       "      <th>id</th>\n",
       "    </tr>\n",
       "  </thead>\n",
       "  <tbody>\n",
       "    <tr>\n",
       "      <th>0</th>\n",
       "      <td>False</td>\n",
       "      <td>A</td>\n",
       "      <td>2019-11-08</td>\n",
       "      <td>0x25b44a</td>\n",
       "    </tr>\n",
       "    <tr>\n",
       "      <th>1</th>\n",
       "      <td>False</td>\n",
       "      <td>B</td>\n",
       "      <td>2020-08-27</td>\n",
       "      <td>0x46271e</td>\n",
       "    </tr>\n",
       "    <tr>\n",
       "      <th>2</th>\n",
       "      <td>False</td>\n",
       "      <td>A</td>\n",
       "      <td>2020-06-11</td>\n",
       "      <td>0x80b8f1</td>\n",
       "    </tr>\n",
       "    <tr>\n",
       "      <th>3</th>\n",
       "      <td>False</td>\n",
       "      <td>B</td>\n",
       "      <td>2020-08-22</td>\n",
       "      <td>0x8d736d</td>\n",
       "    </tr>\n",
       "    <tr>\n",
       "      <th>4</th>\n",
       "      <td>False</td>\n",
       "      <td>A</td>\n",
       "      <td>2020-08-05</td>\n",
       "      <td>0x96c9c8</td>\n",
       "    </tr>\n",
       "    <tr>\n",
       "      <th>...</th>\n",
       "      <td>...</td>\n",
       "      <td>...</td>\n",
       "      <td>...</td>\n",
       "      <td>...</td>\n",
       "    </tr>\n",
       "    <tr>\n",
       "      <th>129995</th>\n",
       "      <td>False</td>\n",
       "      <td>A</td>\n",
       "      <td>2020-07-23</td>\n",
       "      <td>0x4089c2</td>\n",
       "    </tr>\n",
       "    <tr>\n",
       "      <th>129996</th>\n",
       "      <td>False</td>\n",
       "      <td>A</td>\n",
       "      <td>2020-06-24</td>\n",
       "      <td>0x6a5e3a</td>\n",
       "    </tr>\n",
       "    <tr>\n",
       "      <th>129997</th>\n",
       "      <td>False</td>\n",
       "      <td>A</td>\n",
       "      <td>2019-10-12</td>\n",
       "      <td>0x95e302</td>\n",
       "    </tr>\n",
       "    <tr>\n",
       "      <th>129998</th>\n",
       "      <td>False</td>\n",
       "      <td>A</td>\n",
       "      <td>2020-03-18</td>\n",
       "      <td>0x7c4afa</td>\n",
       "    </tr>\n",
       "    <tr>\n",
       "      <th>129999</th>\n",
       "      <td>False</td>\n",
       "      <td>A</td>\n",
       "      <td>2019-12-09</td>\n",
       "      <td>0x380071</td>\n",
       "    </tr>\n",
       "  </tbody>\n",
       "</table>\n",
       "<p>130000 rows × 4 columns</p>\n",
       "</div>"
      ],
      "text/plain": [
       "        purchase_TF Variant        date        id\n",
       "0             False       A  2019-11-08  0x25b44a\n",
       "1             False       B  2020-08-27  0x46271e\n",
       "2             False       A  2020-06-11  0x80b8f1\n",
       "3             False       B  2020-08-22  0x8d736d\n",
       "4             False       A  2020-08-05  0x96c9c8\n",
       "...             ...     ...         ...       ...\n",
       "129995        False       A  2020-07-23  0x4089c2\n",
       "129996        False       A  2020-06-24  0x6a5e3a\n",
       "129997        False       A  2019-10-12  0x95e302\n",
       "129998        False       A  2020-03-18  0x7c4afa\n",
       "129999        False       A  2019-12-09  0x380071\n",
       "\n",
       "[130000 rows x 4 columns]"
      ]
     },
     "execution_count": 4,
     "metadata": {},
     "output_type": "execute_result"
    }
   ],
   "source": [
    "data"
   ]
  },
  {
   "cell_type": "code",
   "execution_count": null,
   "id": "a9e1522e-48f5-4e61-a21c-db2d0b7a6f00",
   "metadata": {},
   "outputs": [],
   "source": [
    "import matplotlib.pyplot as plt\n",
    "import datetime\n",
    "import numpy as np\n",
    "\n",
    "x = data['purchase_TF']\n",
    "y = data['Variant']\n",
    "\n",
    "plt.hist(y)\n",
    "plt.show()"
   ]
  },
  {
   "cell_type": "code",
   "execution_count": 81,
   "id": "8ff128a7-d21e-497a-b0e4-10ac7f6f39be",
   "metadata": {},
   "outputs": [
    {
     "data": {
      "text/html": [
       "<div>\n",
       "<style scoped>\n",
       "    .dataframe tbody tr th:only-of-type {\n",
       "        vertical-align: middle;\n",
       "    }\n",
       "\n",
       "    .dataframe tbody tr th {\n",
       "        vertical-align: top;\n",
       "    }\n",
       "\n",
       "    .dataframe thead th {\n",
       "        text-align: right;\n",
       "    }\n",
       "</style>\n",
       "<table border=\"1\" class=\"dataframe\">\n",
       "  <thead>\n",
       "    <tr style=\"text-align: right;\">\n",
       "      <th></th>\n",
       "      <th>purchase_TF</th>\n",
       "      <th>Variant</th>\n",
       "      <th>date</th>\n",
       "      <th>id</th>\n",
       "    </tr>\n",
       "  </thead>\n",
       "  <tbody>\n",
       "    <tr>\n",
       "      <th>0</th>\n",
       "      <td>False</td>\n",
       "      <td>A</td>\n",
       "      <td>2019-11-08</td>\n",
       "      <td>0x25b44a</td>\n",
       "    </tr>\n",
       "    <tr>\n",
       "      <th>1</th>\n",
       "      <td>False</td>\n",
       "      <td>B</td>\n",
       "      <td>2020-08-27</td>\n",
       "      <td>0x46271e</td>\n",
       "    </tr>\n",
       "    <tr>\n",
       "      <th>2</th>\n",
       "      <td>False</td>\n",
       "      <td>A</td>\n",
       "      <td>2020-06-11</td>\n",
       "      <td>0x80b8f1</td>\n",
       "    </tr>\n",
       "    <tr>\n",
       "      <th>3</th>\n",
       "      <td>False</td>\n",
       "      <td>B</td>\n",
       "      <td>2020-08-22</td>\n",
       "      <td>0x8d736d</td>\n",
       "    </tr>\n",
       "    <tr>\n",
       "      <th>4</th>\n",
       "      <td>False</td>\n",
       "      <td>A</td>\n",
       "      <td>2020-08-05</td>\n",
       "      <td>0x96c9c8</td>\n",
       "    </tr>\n",
       "    <tr>\n",
       "      <th>...</th>\n",
       "      <td>...</td>\n",
       "      <td>...</td>\n",
       "      <td>...</td>\n",
       "      <td>...</td>\n",
       "    </tr>\n",
       "    <tr>\n",
       "      <th>129995</th>\n",
       "      <td>False</td>\n",
       "      <td>A</td>\n",
       "      <td>2020-07-23</td>\n",
       "      <td>0x4089c2</td>\n",
       "    </tr>\n",
       "    <tr>\n",
       "      <th>129996</th>\n",
       "      <td>False</td>\n",
       "      <td>A</td>\n",
       "      <td>2020-06-24</td>\n",
       "      <td>0x6a5e3a</td>\n",
       "    </tr>\n",
       "    <tr>\n",
       "      <th>129997</th>\n",
       "      <td>False</td>\n",
       "      <td>A</td>\n",
       "      <td>2019-10-12</td>\n",
       "      <td>0x95e302</td>\n",
       "    </tr>\n",
       "    <tr>\n",
       "      <th>129998</th>\n",
       "      <td>False</td>\n",
       "      <td>A</td>\n",
       "      <td>2020-03-18</td>\n",
       "      <td>0x7c4afa</td>\n",
       "    </tr>\n",
       "    <tr>\n",
       "      <th>129999</th>\n",
       "      <td>False</td>\n",
       "      <td>A</td>\n",
       "      <td>2019-12-09</td>\n",
       "      <td>0x380071</td>\n",
       "    </tr>\n",
       "  </tbody>\n",
       "</table>\n",
       "<p>130000 rows × 4 columns</p>\n",
       "</div>"
      ],
      "text/plain": [
       "        purchase_TF Variant        date        id\n",
       "0             False       A  2019-11-08  0x25b44a\n",
       "1             False       B  2020-08-27  0x46271e\n",
       "2             False       A  2020-06-11  0x80b8f1\n",
       "3             False       B  2020-08-22  0x8d736d\n",
       "4             False       A  2020-08-05  0x96c9c8\n",
       "...             ...     ...         ...       ...\n",
       "129995        False       A  2020-07-23  0x4089c2\n",
       "129996        False       A  2020-06-24  0x6a5e3a\n",
       "129997        False       A  2019-10-12  0x95e302\n",
       "129998        False       A  2020-03-18  0x7c4afa\n",
       "129999        False       A  2019-12-09  0x380071\n",
       "\n",
       "[130000 rows x 4 columns]"
      ]
     },
     "execution_count": 81,
     "metadata": {},
     "output_type": "execute_result"
    }
   ],
   "source": [
    "data"
   ]
  },
  {
   "cell_type": "code",
   "execution_count": 16,
   "id": "eaec08bb-6dc5-45ba-a356-da66c996ab1a",
   "metadata": {},
   "outputs": [
    {
     "data": {
      "text/html": [
       "<div>\n",
       "<style scoped>\n",
       "    .dataframe tbody tr th:only-of-type {\n",
       "        vertical-align: middle;\n",
       "    }\n",
       "\n",
       "    .dataframe tbody tr th {\n",
       "        vertical-align: top;\n",
       "    }\n",
       "\n",
       "    .dataframe thead th {\n",
       "        text-align: right;\n",
       "    }\n",
       "</style>\n",
       "<table border=\"1\" class=\"dataframe\">\n",
       "  <thead>\n",
       "    <tr style=\"text-align: right;\">\n",
       "      <th>Variant</th>\n",
       "      <th>A</th>\n",
       "      <th>B</th>\n",
       "    </tr>\n",
       "    <tr>\n",
       "      <th>purchase_TF</th>\n",
       "      <th></th>\n",
       "      <th></th>\n",
       "    </tr>\n",
       "  </thead>\n",
       "  <tbody>\n",
       "    <tr>\n",
       "      <th>False</th>\n",
       "      <td>106298</td>\n",
       "      <td>4117</td>\n",
       "    </tr>\n",
       "    <tr>\n",
       "      <th>True</th>\n",
       "      <td>18702</td>\n",
       "      <td>883</td>\n",
       "    </tr>\n",
       "  </tbody>\n",
       "</table>\n",
       "</div>"
      ],
      "text/plain": [
       "Variant           A     B\n",
       "purchase_TF              \n",
       "False        106298  4117\n",
       "True          18702   883"
      ]
     },
     "execution_count": 16,
     "metadata": {},
     "output_type": "execute_result"
    }
   ],
   "source": [
    "pd.crosstab(data['purchase_TF'],data['Variant'])"
   ]
  },
  {
   "cell_type": "code",
   "execution_count": 138,
   "id": "91ce850d-7030-4e9f-8d0b-dc1ed7192f49",
   "metadata": {},
   "outputs": [
    {
     "data": {
      "text/plain": [
       "0.9549144753637988"
      ]
     },
     "execution_count": 138,
     "metadata": {},
     "output_type": "execute_result"
    }
   ],
   "source": [
    "fp=4117/(4117+106298)\n",
    "fn=18702/(18702+883)"
   ]
  },
  {
   "cell_type": "code",
   "execution_count": 98,
   "id": "d74d5228-d9c7-43fe-a12c-178eaa9e147e",
   "metadata": {},
   "outputs": [],
   "source": [
    "t_a=18702\n",
    "f_a=106298\n",
    "f_b=4117\n",
    "t_b=883"
   ]
  },
  {
   "cell_type": "code",
   "execution_count": 116,
   "id": "d028bd86-1031-454b-91bf-7629730a2a39",
   "metadata": {},
   "outputs": [],
   "source": [
    "def prob(t_a,t_b,f_a,f_b):\n",
    "    p1=t_a/(t_a+f_a)\n",
    "    p0=t_b/(t_b+f_b)\n",
    "    p_hat=(t_a+t_b)/(t_a+f_a+t_b+f_b)\n",
    "    n1=t_a+f_a\n",
    "    n2=t_b+f_b\n",
    "    z=(p0-p1)/np.sqrt(p_hat*(1-p_hat)*((1/n1)+(1/n2)))\n",
    "    import scipy.stats as st\n",
    "    result=1-st.norm.cdf(z/2)\n",
    "    return(z,result)"
   ]
  },
  {
   "cell_type": "code",
   "execution_count": 118,
   "id": "6a16daca-b531-4065-a031-9e084eaafa33",
   "metadata": {},
   "outputs": [
    {
     "data": {
      "text/plain": [
       "(5.2304877183522045, 0.0044581885107330965)"
      ]
     },
     "execution_count": 118,
     "metadata": {},
     "output_type": "execute_result"
    }
   ],
   "source": [
    "prob(t_a,t_b,f_a,f_b)"
   ]
  },
  {
   "cell_type": "code",
   "execution_count": 17,
   "id": "29ba2a50-ee97-4026-877a-55a77711bf93",
   "metadata": {},
   "outputs": [
    {
     "data": {
      "text/plain": [
       "0.149616"
      ]
     },
     "execution_count": 17,
     "metadata": {},
     "output_type": "execute_result"
    }
   ],
   "source": [
    "p1=18702/(106298+18702)\n",
    "p1"
   ]
  },
  {
   "cell_type": "code",
   "execution_count": 18,
   "id": "35c6b67d-d8c6-4656-b004-cf876b023630",
   "metadata": {},
   "outputs": [
    {
     "data": {
      "text/plain": [
       "0.1766"
      ]
     },
     "execution_count": 18,
     "metadata": {},
     "output_type": "execute_result"
    }
   ],
   "source": [
    "p0=883/(4117+883)\n",
    "p0"
   ]
  },
  {
   "cell_type": "code",
   "execution_count": 19,
   "id": "5aa350ec-f645-4a4d-ab57-e41d7cbea026",
   "metadata": {},
   "outputs": [
    {
     "data": {
      "text/plain": [
       "True"
      ]
     },
     "execution_count": 19,
     "metadata": {},
     "output_type": "execute_result"
    }
   ],
   "source": [
    "np1=(106298+18702)*18702\n",
    "np2=883*4117+883\n",
    "np1>15 and np2>15"
   ]
  },
  {
   "cell_type": "code",
   "execution_count": 20,
   "id": "9e5c68f1-1af8-41a3-a643-4f187f57348e",
   "metadata": {},
   "outputs": [
    {
     "data": {
      "text/plain": [
       "0.15065384615384617"
      ]
     },
     "execution_count": 20,
     "metadata": {},
     "output_type": "execute_result"
    }
   ],
   "source": [
    "p_hat=(883+18702)/(883+18702+106298+4117)\n",
    "p_hat"
   ]
  },
  {
   "cell_type": "code",
   "execution_count": 21,
   "id": "d64a3fb1-913b-4a96-a872-e96949e4df15",
   "metadata": {},
   "outputs": [
    {
     "data": {
      "text/plain": [
       "125000"
      ]
     },
     "execution_count": 21,
     "metadata": {},
     "output_type": "execute_result"
    }
   ],
   "source": [
    "n1=106298+18702\n",
    "n2=4117+883\n",
    "n1"
   ]
  },
  {
   "cell_type": "code",
   "execution_count": 22,
   "id": "406b9eb1-2025-410b-b166-d9982fa05e3a",
   "metadata": {},
   "outputs": [
    {
     "data": {
      "text/plain": [
       "5000"
      ]
     },
     "execution_count": 22,
     "metadata": {},
     "output_type": "execute_result"
    }
   ],
   "source": [
    "n2"
   ]
  },
  {
   "cell_type": "code",
   "execution_count": 23,
   "id": "d4314b3e-5413-41ac-a899-7dde4d39ba61",
   "metadata": {},
   "outputs": [
    {
     "data": {
      "text/plain": [
       "0.15065384615384617"
      ]
     },
     "execution_count": 23,
     "metadata": {},
     "output_type": "execute_result"
    }
   ],
   "source": [
    "p_hat"
   ]
  },
  {
   "cell_type": "code",
   "execution_count": 24,
   "id": "dc9dad12-2f16-4491-96b4-043b6f793146",
   "metadata": {},
   "outputs": [
    {
     "data": {
      "text/plain": [
       "5.2304877183522045"
      ]
     },
     "execution_count": 24,
     "metadata": {},
     "output_type": "execute_result"
    }
   ],
   "source": [
    "z=(p0-p1)/np.sqrt(p_hat*(1-p_hat)*((1/n1)+(1/n2)))\n",
    "z"
   ]
  },
  {
   "cell_type": "code",
   "execution_count": 25,
   "id": "cd410e31-ee4e-4644-9139-fd5318fc529e",
   "metadata": {},
   "outputs": [
    {
     "data": {
      "text/plain": [
       "2.6152438591761022"
      ]
     },
     "execution_count": 25,
     "metadata": {},
     "output_type": "execute_result"
    }
   ],
   "source": [
    "z/2"
   ]
  },
  {
   "cell_type": "code",
   "execution_count": 26,
   "id": "3546efe1-6829-4106-8ca6-87a180a7c64c",
   "metadata": {},
   "outputs": [],
   "source": [
    "p_value=0.0047\n",
    "#1% critical value: z(0.01)=2.576\n",
    "#2.6152438591761022>2.576, result is statistically significant at 1%"
   ]
  },
  {
   "cell_type": "code",
   "execution_count": 27,
   "id": "fb4da5e8-a88e-4768-b2af-d9a7d0afd091",
   "metadata": {},
   "outputs": [
    {
     "data": {
      "text/plain": [
       "0.005044423704329366"
      ]
     },
     "execution_count": 27,
     "metadata": {},
     "output_type": "execute_result"
    }
   ],
   "source": [
    "std1=np.sqrt((p0*(1-p0))/n1)\n",
    "std2=np.sqrt((p1*(1-p1))/n2)\n",
    "std2"
   ]
  },
  {
   "cell_type": "code",
   "execution_count": 28,
   "id": "9acb4bfd-ec30-4195-875d-8c853659512e",
   "metadata": {},
   "outputs": [
    {
     "data": {
      "text/plain": [
       "1.1632995200000001e-06"
      ]
     },
     "execution_count": 28,
     "metadata": {},
     "output_type": "execute_result"
    }
   ],
   "source": [
    "std1**2"
   ]
  },
  {
   "cell_type": "code",
   "execution_count": 29,
   "id": "5b9468e6-df0e-4079-8252-ce6fda134b66",
   "metadata": {},
   "outputs": [
    {
     "data": {
      "text/plain": [
       "101.65988023099285"
      ]
     },
     "execution_count": 29,
     "metadata": {},
     "output_type": "execute_result"
    }
   ],
   "source": [
    "d=0.1#we set minimum detectable effect at 0.1\n",
    "a=0.05\n",
    "b=0.2\n",
    "za=1.96\n",
    "zb=1.28\n",
    "n_min=za*np.sqrt(2*p_hat*(1-p_hat))+zb*np.sqrt((p0*(1-p0))+(p1*(1-p1)))+(1/d**2)\n",
    "n_min"
   ]
  },
  {
   "cell_type": "code",
   "execution_count": 30,
   "id": "f8e22bba-a34e-474c-aa6f-8901e48a13c0",
   "metadata": {},
   "outputs": [
    {
     "data": {
      "text/html": [
       "<div>\n",
       "<style scoped>\n",
       "    .dataframe tbody tr th:only-of-type {\n",
       "        vertical-align: middle;\n",
       "    }\n",
       "\n",
       "    .dataframe tbody tr th {\n",
       "        vertical-align: top;\n",
       "    }\n",
       "\n",
       "    .dataframe thead th {\n",
       "        text-align: right;\n",
       "    }\n",
       "</style>\n",
       "<table border=\"1\" class=\"dataframe\">\n",
       "  <thead>\n",
       "    <tr style=\"text-align: right;\">\n",
       "      <th></th>\n",
       "      <th>purchase_TF</th>\n",
       "      <th>Variant</th>\n",
       "      <th>date</th>\n",
       "      <th>id</th>\n",
       "    </tr>\n",
       "  </thead>\n",
       "  <tbody>\n",
       "    <tr>\n",
       "      <th>0</th>\n",
       "      <td>False</td>\n",
       "      <td>A</td>\n",
       "      <td>2019-11-08</td>\n",
       "      <td>0x25b44a</td>\n",
       "    </tr>\n",
       "    <tr>\n",
       "      <th>2</th>\n",
       "      <td>False</td>\n",
       "      <td>A</td>\n",
       "      <td>2020-06-11</td>\n",
       "      <td>0x80b8f1</td>\n",
       "    </tr>\n",
       "    <tr>\n",
       "      <th>4</th>\n",
       "      <td>False</td>\n",
       "      <td>A</td>\n",
       "      <td>2020-08-05</td>\n",
       "      <td>0x96c9c8</td>\n",
       "    </tr>\n",
       "    <tr>\n",
       "      <th>5</th>\n",
       "      <td>False</td>\n",
       "      <td>A</td>\n",
       "      <td>2020-03-10</td>\n",
       "      <td>0x751c24</td>\n",
       "    </tr>\n",
       "    <tr>\n",
       "      <th>6</th>\n",
       "      <td>False</td>\n",
       "      <td>A</td>\n",
       "      <td>2019-11-05</td>\n",
       "      <td>0x60d2bd</td>\n",
       "    </tr>\n",
       "    <tr>\n",
       "      <th>...</th>\n",
       "      <td>...</td>\n",
       "      <td>...</td>\n",
       "      <td>...</td>\n",
       "      <td>...</td>\n",
       "    </tr>\n",
       "    <tr>\n",
       "      <th>129995</th>\n",
       "      <td>False</td>\n",
       "      <td>A</td>\n",
       "      <td>2020-07-23</td>\n",
       "      <td>0x4089c2</td>\n",
       "    </tr>\n",
       "    <tr>\n",
       "      <th>129996</th>\n",
       "      <td>False</td>\n",
       "      <td>A</td>\n",
       "      <td>2020-06-24</td>\n",
       "      <td>0x6a5e3a</td>\n",
       "    </tr>\n",
       "    <tr>\n",
       "      <th>129997</th>\n",
       "      <td>False</td>\n",
       "      <td>A</td>\n",
       "      <td>2019-10-12</td>\n",
       "      <td>0x95e302</td>\n",
       "    </tr>\n",
       "    <tr>\n",
       "      <th>129998</th>\n",
       "      <td>False</td>\n",
       "      <td>A</td>\n",
       "      <td>2020-03-18</td>\n",
       "      <td>0x7c4afa</td>\n",
       "    </tr>\n",
       "    <tr>\n",
       "      <th>129999</th>\n",
       "      <td>False</td>\n",
       "      <td>A</td>\n",
       "      <td>2019-12-09</td>\n",
       "      <td>0x380071</td>\n",
       "    </tr>\n",
       "  </tbody>\n",
       "</table>\n",
       "<p>125000 rows × 4 columns</p>\n",
       "</div>"
      ],
      "text/plain": [
       "        purchase_TF Variant        date        id\n",
       "0             False       A  2019-11-08  0x25b44a\n",
       "2             False       A  2020-06-11  0x80b8f1\n",
       "4             False       A  2020-08-05  0x96c9c8\n",
       "5             False       A  2020-03-10  0x751c24\n",
       "6             False       A  2019-11-05  0x60d2bd\n",
       "...             ...     ...         ...       ...\n",
       "129995        False       A  2020-07-23  0x4089c2\n",
       "129996        False       A  2020-06-24  0x6a5e3a\n",
       "129997        False       A  2019-10-12  0x95e302\n",
       "129998        False       A  2020-03-18  0x7c4afa\n",
       "129999        False       A  2019-12-09  0x380071\n",
       "\n",
       "[125000 rows x 4 columns]"
      ]
     },
     "execution_count": 30,
     "metadata": {},
     "output_type": "execute_result"
    }
   ],
   "source": [
    "groupa=data['Variant']=='A'\n",
    "groupb=data['Variant']=='B'\n",
    "va=data.loc[groupa]\n",
    "vb=data.loc[groupb]\n",
    "va"
   ]
  },
  {
   "cell_type": "code",
   "execution_count": 31,
   "id": "899b4a4f-969b-42f7-a333-19d9b7f17e30",
   "metadata": {},
   "outputs": [
    {
     "data": {
      "text/html": [
       "<div>\n",
       "<style scoped>\n",
       "    .dataframe tbody tr th:only-of-type {\n",
       "        vertical-align: middle;\n",
       "    }\n",
       "\n",
       "    .dataframe tbody tr th {\n",
       "        vertical-align: top;\n",
       "    }\n",
       "\n",
       "    .dataframe thead th {\n",
       "        text-align: right;\n",
       "    }\n",
       "</style>\n",
       "<table border=\"1\" class=\"dataframe\">\n",
       "  <thead>\n",
       "    <tr style=\"text-align: right;\">\n",
       "      <th></th>\n",
       "      <th>index</th>\n",
       "      <th>purchase_TF</th>\n",
       "      <th>Variant</th>\n",
       "      <th>date</th>\n",
       "      <th>id</th>\n",
       "    </tr>\n",
       "  </thead>\n",
       "  <tbody>\n",
       "    <tr>\n",
       "      <th>0</th>\n",
       "      <td>1</td>\n",
       "      <td>False</td>\n",
       "      <td>B</td>\n",
       "      <td>2020-08-27</td>\n",
       "      <td>0x46271e</td>\n",
       "    </tr>\n",
       "    <tr>\n",
       "      <th>1</th>\n",
       "      <td>3</td>\n",
       "      <td>False</td>\n",
       "      <td>B</td>\n",
       "      <td>2020-08-22</td>\n",
       "      <td>0x8d736d</td>\n",
       "    </tr>\n",
       "    <tr>\n",
       "      <th>2</th>\n",
       "      <td>59</td>\n",
       "      <td>False</td>\n",
       "      <td>B</td>\n",
       "      <td>2020-08-19</td>\n",
       "      <td>0x3ff83f</td>\n",
       "    </tr>\n",
       "    <tr>\n",
       "      <th>3</th>\n",
       "      <td>74</td>\n",
       "      <td>False</td>\n",
       "      <td>B</td>\n",
       "      <td>2020-08-10</td>\n",
       "      <td>0x138d19</td>\n",
       "    </tr>\n",
       "    <tr>\n",
       "      <th>4</th>\n",
       "      <td>103</td>\n",
       "      <td>False</td>\n",
       "      <td>B</td>\n",
       "      <td>2020-08-04</td>\n",
       "      <td>0x966e6a</td>\n",
       "    </tr>\n",
       "    <tr>\n",
       "      <th>...</th>\n",
       "      <td>...</td>\n",
       "      <td>...</td>\n",
       "      <td>...</td>\n",
       "      <td>...</td>\n",
       "      <td>...</td>\n",
       "    </tr>\n",
       "    <tr>\n",
       "      <th>4995</th>\n",
       "      <td>129805</td>\n",
       "      <td>False</td>\n",
       "      <td>B</td>\n",
       "      <td>2020-08-27</td>\n",
       "      <td>0x7d95d0</td>\n",
       "    </tr>\n",
       "    <tr>\n",
       "      <th>4996</th>\n",
       "      <td>129827</td>\n",
       "      <td>False</td>\n",
       "      <td>B</td>\n",
       "      <td>2020-08-10</td>\n",
       "      <td>0x38a6e8</td>\n",
       "    </tr>\n",
       "    <tr>\n",
       "      <th>4997</th>\n",
       "      <td>129879</td>\n",
       "      <td>False</td>\n",
       "      <td>B</td>\n",
       "      <td>2020-08-30</td>\n",
       "      <td>0x6a711a</td>\n",
       "    </tr>\n",
       "    <tr>\n",
       "      <th>4998</th>\n",
       "      <td>129910</td>\n",
       "      <td>False</td>\n",
       "      <td>B</td>\n",
       "      <td>2020-08-13</td>\n",
       "      <td>0x13175a</td>\n",
       "    </tr>\n",
       "    <tr>\n",
       "      <th>4999</th>\n",
       "      <td>129960</td>\n",
       "      <td>False</td>\n",
       "      <td>B</td>\n",
       "      <td>2020-08-02</td>\n",
       "      <td>0x8d0674</td>\n",
       "    </tr>\n",
       "  </tbody>\n",
       "</table>\n",
       "<p>5000 rows × 5 columns</p>\n",
       "</div>"
      ],
      "text/plain": [
       "       index  purchase_TF Variant        date        id\n",
       "0          1        False       B  2020-08-27  0x46271e\n",
       "1          3        False       B  2020-08-22  0x8d736d\n",
       "2         59        False       B  2020-08-19  0x3ff83f\n",
       "3         74        False       B  2020-08-10  0x138d19\n",
       "4        103        False       B  2020-08-04  0x966e6a\n",
       "...      ...          ...     ...         ...       ...\n",
       "4995  129805        False       B  2020-08-27  0x7d95d0\n",
       "4996  129827        False       B  2020-08-10  0x38a6e8\n",
       "4997  129879        False       B  2020-08-30  0x6a711a\n",
       "4998  129910        False       B  2020-08-13  0x13175a\n",
       "4999  129960        False       B  2020-08-02  0x8d0674\n",
       "\n",
       "[5000 rows x 5 columns]"
      ]
     },
     "execution_count": 31,
     "metadata": {},
     "output_type": "execute_result"
    }
   ],
   "source": [
    "va.reset_index(inplace=True)\n",
    "vb.reset_index(inplace=True)\n",
    "vb"
   ]
  },
  {
   "cell_type": "code",
   "execution_count": 36,
   "id": "70e4af14-c5cd-442d-b95a-63e3129713fe",
   "metadata": {
    "tags": []
   },
   "outputs": [
    {
     "data": {
      "text/html": [
       "<div>\n",
       "<style scoped>\n",
       "    .dataframe tbody tr th:only-of-type {\n",
       "        vertical-align: middle;\n",
       "    }\n",
       "\n",
       "    .dataframe tbody tr th {\n",
       "        vertical-align: top;\n",
       "    }\n",
       "\n",
       "    .dataframe thead th {\n",
       "        text-align: right;\n",
       "    }\n",
       "</style>\n",
       "<table border=\"1\" class=\"dataframe\">\n",
       "  <thead>\n",
       "    <tr style=\"text-align: right;\">\n",
       "      <th></th>\n",
       "      <th>purchase_TF</th>\n",
       "      <th>Variant</th>\n",
       "      <th>date</th>\n",
       "      <th>id</th>\n",
       "    </tr>\n",
       "  </thead>\n",
       "  <tbody>\n",
       "    <tr>\n",
       "      <th>0</th>\n",
       "      <td>False</td>\n",
       "      <td>A</td>\n",
       "      <td>2019-11-08</td>\n",
       "      <td>0x25b44a</td>\n",
       "    </tr>\n",
       "    <tr>\n",
       "      <th>1</th>\n",
       "      <td>False</td>\n",
       "      <td>B</td>\n",
       "      <td>2020-08-27</td>\n",
       "      <td>0x46271e</td>\n",
       "    </tr>\n",
       "    <tr>\n",
       "      <th>2</th>\n",
       "      <td>False</td>\n",
       "      <td>A</td>\n",
       "      <td>2020-06-11</td>\n",
       "      <td>0x80b8f1</td>\n",
       "    </tr>\n",
       "    <tr>\n",
       "      <th>3</th>\n",
       "      <td>False</td>\n",
       "      <td>B</td>\n",
       "      <td>2020-08-22</td>\n",
       "      <td>0x8d736d</td>\n",
       "    </tr>\n",
       "    <tr>\n",
       "      <th>4</th>\n",
       "      <td>False</td>\n",
       "      <td>A</td>\n",
       "      <td>2020-08-05</td>\n",
       "      <td>0x96c9c8</td>\n",
       "    </tr>\n",
       "    <tr>\n",
       "      <th>...</th>\n",
       "      <td>...</td>\n",
       "      <td>...</td>\n",
       "      <td>...</td>\n",
       "      <td>...</td>\n",
       "    </tr>\n",
       "    <tr>\n",
       "      <th>129995</th>\n",
       "      <td>False</td>\n",
       "      <td>A</td>\n",
       "      <td>2020-07-23</td>\n",
       "      <td>0x4089c2</td>\n",
       "    </tr>\n",
       "    <tr>\n",
       "      <th>129996</th>\n",
       "      <td>False</td>\n",
       "      <td>A</td>\n",
       "      <td>2020-06-24</td>\n",
       "      <td>0x6a5e3a</td>\n",
       "    </tr>\n",
       "    <tr>\n",
       "      <th>129997</th>\n",
       "      <td>False</td>\n",
       "      <td>A</td>\n",
       "      <td>2019-10-12</td>\n",
       "      <td>0x95e302</td>\n",
       "    </tr>\n",
       "    <tr>\n",
       "      <th>129998</th>\n",
       "      <td>False</td>\n",
       "      <td>A</td>\n",
       "      <td>2020-03-18</td>\n",
       "      <td>0x7c4afa</td>\n",
       "    </tr>\n",
       "    <tr>\n",
       "      <th>129999</th>\n",
       "      <td>False</td>\n",
       "      <td>A</td>\n",
       "      <td>2019-12-09</td>\n",
       "      <td>0x380071</td>\n",
       "    </tr>\n",
       "  </tbody>\n",
       "</table>\n",
       "<p>130000 rows × 4 columns</p>\n",
       "</div>"
      ],
      "text/plain": [
       "        purchase_TF Variant        date        id\n",
       "0             False       A  2019-11-08  0x25b44a\n",
       "1             False       B  2020-08-27  0x46271e\n",
       "2             False       A  2020-06-11  0x80b8f1\n",
       "3             False       B  2020-08-22  0x8d736d\n",
       "4             False       A  2020-08-05  0x96c9c8\n",
       "...             ...     ...         ...       ...\n",
       "129995        False       A  2020-07-23  0x4089c2\n",
       "129996        False       A  2020-06-24  0x6a5e3a\n",
       "129997        False       A  2019-10-12  0x95e302\n",
       "129998        False       A  2020-03-18  0x7c4afa\n",
       "129999        False       A  2019-12-09  0x380071\n",
       "\n",
       "[130000 rows x 4 columns]"
      ]
     },
     "execution_count": 36,
     "metadata": {},
     "output_type": "execute_result"
    }
   ],
   "source": [
    "data"
   ]
  },
  {
   "cell_type": "code",
   "execution_count": 51,
   "id": "28d4bc7c-6f43-4cee-9708-baf3ff403e96",
   "metadata": {},
   "outputs": [
    {
     "data": {
      "text/html": [
       "<div>\n",
       "<style scoped>\n",
       "    .dataframe tbody tr th:only-of-type {\n",
       "        vertical-align: middle;\n",
       "    }\n",
       "\n",
       "    .dataframe tbody tr th {\n",
       "        vertical-align: top;\n",
       "    }\n",
       "\n",
       "    .dataframe thead th {\n",
       "        text-align: right;\n",
       "    }\n",
       "</style>\n",
       "<table border=\"1\" class=\"dataframe\">\n",
       "  <thead>\n",
       "    <tr style=\"text-align: right;\">\n",
       "      <th>Variant</th>\n",
       "      <th>A</th>\n",
       "      <th>B</th>\n",
       "    </tr>\n",
       "    <tr>\n",
       "      <th>purchase_TF</th>\n",
       "      <th></th>\n",
       "      <th></th>\n",
       "    </tr>\n",
       "  </thead>\n",
       "  <tbody>\n",
       "    <tr>\n",
       "      <th>False</th>\n",
       "      <td>106298</td>\n",
       "      <td>4117</td>\n",
       "    </tr>\n",
       "    <tr>\n",
       "      <th>True</th>\n",
       "      <td>18702</td>\n",
       "      <td>883</td>\n",
       "    </tr>\n",
       "  </tbody>\n",
       "</table>\n",
       "</div>"
      ],
      "text/plain": [
       "Variant           A     B\n",
       "purchase_TF              \n",
       "False        106298  4117\n",
       "True          18702   883"
      ]
     },
     "execution_count": 51,
     "metadata": {},
     "output_type": "execute_result"
    }
   ],
   "source": [
    "pd.crosstab(data['purchase_TF'],data['Variant'])"
   ]
  },
  {
   "cell_type": "code",
   "execution_count": 57,
   "id": "bfa3f20a-0f6e-4a90-b322-57ff47c92d59",
   "metadata": {},
   "outputs": [
    {
     "data": {
      "text/plain": [
       "0.149616"
      ]
     },
     "execution_count": 57,
     "metadata": {},
     "output_type": "execute_result"
    }
   ],
   "source": [
    "pa=18702/(106298+18702)\n",
    "pa"
   ]
  },
  {
   "cell_type": "code",
   "execution_count": 59,
   "id": "c7496000-68af-49a9-9113-371aa7f1a06c",
   "metadata": {},
   "outputs": [
    {
     "data": {
      "text/plain": [
       "0.1766"
      ]
     },
     "execution_count": 59,
     "metadata": {},
     "output_type": "execute_result"
    }
   ],
   "source": [
    "pb=883/(4117+883)\n",
    "pb"
   ]
  },
  {
   "cell_type": "code",
   "execution_count": 60,
   "id": "988796a4-09dd-41cc-a703-1867f64170cd",
   "metadata": {},
   "outputs": [
    {
     "data": {
      "text/plain": [
       "0.026984000000000008"
      ]
     },
     "execution_count": 60,
     "metadata": {},
     "output_type": "execute_result"
    }
   ],
   "source": [
    "null=pb-pa\n",
    "null"
   ]
  },
  {
   "cell_type": "code",
   "execution_count": 55,
   "id": "61c84c77-1194-447f-9231-640c64fc2e51",
   "metadata": {},
   "outputs": [
    {
     "data": {
      "text/html": [
       "<div>\n",
       "<style scoped>\n",
       "    .dataframe tbody tr th:only-of-type {\n",
       "        vertical-align: middle;\n",
       "    }\n",
       "\n",
       "    .dataframe tbody tr th {\n",
       "        vertical-align: top;\n",
       "    }\n",
       "\n",
       "    .dataframe thead th {\n",
       "        text-align: right;\n",
       "    }\n",
       "</style>\n",
       "<table border=\"1\" class=\"dataframe\">\n",
       "  <thead>\n",
       "    <tr style=\"text-align: right;\">\n",
       "      <th></th>\n",
       "      <th>purchase_TF</th>\n",
       "      <th>Variant</th>\n",
       "      <th>date</th>\n",
       "      <th>id</th>\n",
       "    </tr>\n",
       "  </thead>\n",
       "  <tbody>\n",
       "    <tr>\n",
       "      <th>0</th>\n",
       "      <td>False</td>\n",
       "      <td>A</td>\n",
       "      <td>2019-11-08</td>\n",
       "      <td>0x25b44a</td>\n",
       "    </tr>\n",
       "    <tr>\n",
       "      <th>2</th>\n",
       "      <td>False</td>\n",
       "      <td>A</td>\n",
       "      <td>2020-06-11</td>\n",
       "      <td>0x80b8f1</td>\n",
       "    </tr>\n",
       "    <tr>\n",
       "      <th>4</th>\n",
       "      <td>False</td>\n",
       "      <td>A</td>\n",
       "      <td>2020-08-05</td>\n",
       "      <td>0x96c9c8</td>\n",
       "    </tr>\n",
       "    <tr>\n",
       "      <th>5</th>\n",
       "      <td>False</td>\n",
       "      <td>A</td>\n",
       "      <td>2020-03-10</td>\n",
       "      <td>0x751c24</td>\n",
       "    </tr>\n",
       "    <tr>\n",
       "      <th>6</th>\n",
       "      <td>False</td>\n",
       "      <td>A</td>\n",
       "      <td>2019-11-05</td>\n",
       "      <td>0x60d2bd</td>\n",
       "    </tr>\n",
       "    <tr>\n",
       "      <th>...</th>\n",
       "      <td>...</td>\n",
       "      <td>...</td>\n",
       "      <td>...</td>\n",
       "      <td>...</td>\n",
       "    </tr>\n",
       "    <tr>\n",
       "      <th>129995</th>\n",
       "      <td>False</td>\n",
       "      <td>A</td>\n",
       "      <td>2020-07-23</td>\n",
       "      <td>0x4089c2</td>\n",
       "    </tr>\n",
       "    <tr>\n",
       "      <th>129996</th>\n",
       "      <td>False</td>\n",
       "      <td>A</td>\n",
       "      <td>2020-06-24</td>\n",
       "      <td>0x6a5e3a</td>\n",
       "    </tr>\n",
       "    <tr>\n",
       "      <th>129997</th>\n",
       "      <td>False</td>\n",
       "      <td>A</td>\n",
       "      <td>2019-10-12</td>\n",
       "      <td>0x95e302</td>\n",
       "    </tr>\n",
       "    <tr>\n",
       "      <th>129998</th>\n",
       "      <td>False</td>\n",
       "      <td>A</td>\n",
       "      <td>2020-03-18</td>\n",
       "      <td>0x7c4afa</td>\n",
       "    </tr>\n",
       "    <tr>\n",
       "      <th>129999</th>\n",
       "      <td>False</td>\n",
       "      <td>A</td>\n",
       "      <td>2019-12-09</td>\n",
       "      <td>0x380071</td>\n",
       "    </tr>\n",
       "  </tbody>\n",
       "</table>\n",
       "<p>125000 rows × 4 columns</p>\n",
       "</div>"
      ],
      "text/plain": [
       "        purchase_TF Variant        date        id\n",
       "0             False       A  2019-11-08  0x25b44a\n",
       "2             False       A  2020-06-11  0x80b8f1\n",
       "4             False       A  2020-08-05  0x96c9c8\n",
       "5             False       A  2020-03-10  0x751c24\n",
       "6             False       A  2019-11-05  0x60d2bd\n",
       "...             ...     ...         ...       ...\n",
       "129995        False       A  2020-07-23  0x4089c2\n",
       "129996        False       A  2020-06-24  0x6a5e3a\n",
       "129997        False       A  2019-10-12  0x95e302\n",
       "129998        False       A  2020-03-18  0x7c4afa\n",
       "129999        False       A  2019-12-09  0x380071\n",
       "\n",
       "[125000 rows x 4 columns]"
      ]
     },
     "execution_count": 55,
     "metadata": {},
     "output_type": "execute_result"
    }
   ],
   "source": [
    "group=data['Variant']=='A'\n",
    "groupb=data['Variant']=='B'\n",
    "va=data.loc[group]\n",
    "vb=data.loc[groupb]\n",
    "va"
   ]
  },
  {
   "cell_type": "code",
   "execution_count": 88,
   "id": "30a50bf3-3b19-40c7-a553-ed6f7bc1f3c7",
   "metadata": {},
   "outputs": [
    {
     "data": {
      "text/plain": [
       "0.15065384615384617"
      ]
     },
     "execution_count": 88,
     "metadata": {},
     "output_type": "execute_result"
    }
   ],
   "source": [
    "p_hat"
   ]
  },
  {
   "cell_type": "code",
   "execution_count": 67,
   "id": "279822e0-125e-4356-88db-8d6932767035",
   "metadata": {},
   "outputs": [],
   "source": [
    "vb.reset_index(inplace=True)\n",
    "va.reset_index(inplace=True)"
   ]
  },
  {
   "cell_type": "code",
   "execution_count": null,
   "id": "6066ca44-6871-4cf1-b1fa-e92b7dcbc6c7",
   "metadata": {},
   "outputs": [],
   "source": [
    "def prob(t_a,t_b,f_a,f_b):\n",
    "    p1=t_a/(t_a+f_a)\n",
    "    p0=t_b/(t_b+f_b)\n",
    "    p_hat=(t_a+t_b)/(t_a+f_a+t_b+f_b)\n",
    "    n1=t_a+f_a\n",
    "    n2=t_b+f_b\n",
    "    z=(p0-p1)/np.sqrt(p_hat*(1-p_hat)*((1/n1)+(1/n2)))\n",
    "    import scipy.stats as st\n",
    "    result=1-st.norm.cdf(z/2)\n",
    "    return(z,result)"
   ]
  },
  {
   "cell_type": "code",
   "execution_count": 120,
   "id": "30a642a5-2208-4b3e-bee5-62341ad22ef9",
   "metadata": {},
   "outputs": [
    {
     "data": {
      "text/html": [
       "<div>\n",
       "<style scoped>\n",
       "    .dataframe tbody tr th:only-of-type {\n",
       "        vertical-align: middle;\n",
       "    }\n",
       "\n",
       "    .dataframe tbody tr th {\n",
       "        vertical-align: top;\n",
       "    }\n",
       "\n",
       "    .dataframe thead th {\n",
       "        text-align: right;\n",
       "    }\n",
       "</style>\n",
       "<table border=\"1\" class=\"dataframe\">\n",
       "  <thead>\n",
       "    <tr style=\"text-align: right;\">\n",
       "      <th></th>\n",
       "      <th>purchase_TF</th>\n",
       "      <th>Variant</th>\n",
       "      <th>date</th>\n",
       "      <th>id</th>\n",
       "    </tr>\n",
       "  </thead>\n",
       "  <tbody>\n",
       "    <tr>\n",
       "      <th>0</th>\n",
       "      <td>False</td>\n",
       "      <td>A</td>\n",
       "      <td>2019-11-08</td>\n",
       "      <td>0x25b44a</td>\n",
       "    </tr>\n",
       "    <tr>\n",
       "      <th>1</th>\n",
       "      <td>False</td>\n",
       "      <td>B</td>\n",
       "      <td>2020-08-27</td>\n",
       "      <td>0x46271e</td>\n",
       "    </tr>\n",
       "    <tr>\n",
       "      <th>2</th>\n",
       "      <td>False</td>\n",
       "      <td>A</td>\n",
       "      <td>2020-06-11</td>\n",
       "      <td>0x80b8f1</td>\n",
       "    </tr>\n",
       "    <tr>\n",
       "      <th>3</th>\n",
       "      <td>False</td>\n",
       "      <td>B</td>\n",
       "      <td>2020-08-22</td>\n",
       "      <td>0x8d736d</td>\n",
       "    </tr>\n",
       "    <tr>\n",
       "      <th>4</th>\n",
       "      <td>False</td>\n",
       "      <td>A</td>\n",
       "      <td>2020-08-05</td>\n",
       "      <td>0x96c9c8</td>\n",
       "    </tr>\n",
       "    <tr>\n",
       "      <th>...</th>\n",
       "      <td>...</td>\n",
       "      <td>...</td>\n",
       "      <td>...</td>\n",
       "      <td>...</td>\n",
       "    </tr>\n",
       "    <tr>\n",
       "      <th>129995</th>\n",
       "      <td>False</td>\n",
       "      <td>A</td>\n",
       "      <td>2020-07-23</td>\n",
       "      <td>0x4089c2</td>\n",
       "    </tr>\n",
       "    <tr>\n",
       "      <th>129996</th>\n",
       "      <td>False</td>\n",
       "      <td>A</td>\n",
       "      <td>2020-06-24</td>\n",
       "      <td>0x6a5e3a</td>\n",
       "    </tr>\n",
       "    <tr>\n",
       "      <th>129997</th>\n",
       "      <td>False</td>\n",
       "      <td>A</td>\n",
       "      <td>2019-10-12</td>\n",
       "      <td>0x95e302</td>\n",
       "    </tr>\n",
       "    <tr>\n",
       "      <th>129998</th>\n",
       "      <td>False</td>\n",
       "      <td>A</td>\n",
       "      <td>2020-03-18</td>\n",
       "      <td>0x7c4afa</td>\n",
       "    </tr>\n",
       "    <tr>\n",
       "      <th>129999</th>\n",
       "      <td>False</td>\n",
       "      <td>A</td>\n",
       "      <td>2019-12-09</td>\n",
       "      <td>0x380071</td>\n",
       "    </tr>\n",
       "  </tbody>\n",
       "</table>\n",
       "<p>130000 rows × 4 columns</p>\n",
       "</div>"
      ],
      "text/plain": [
       "        purchase_TF Variant        date        id\n",
       "0             False       A  2019-11-08  0x25b44a\n",
       "1             False       B  2020-08-27  0x46271e\n",
       "2             False       A  2020-06-11  0x80b8f1\n",
       "3             False       B  2020-08-22  0x8d736d\n",
       "4             False       A  2020-08-05  0x96c9c8\n",
       "...             ...     ...         ...       ...\n",
       "129995        False       A  2020-07-23  0x4089c2\n",
       "129996        False       A  2020-06-24  0x6a5e3a\n",
       "129997        False       A  2019-10-12  0x95e302\n",
       "129998        False       A  2020-03-18  0x7c4afa\n",
       "129999        False       A  2019-12-09  0x380071\n",
       "\n",
       "[130000 rows x 4 columns]"
      ]
     },
     "execution_count": 120,
     "metadata": {},
     "output_type": "execute_result"
    }
   ],
   "source": [
    "data"
   ]
  },
  {
   "cell_type": "code",
   "execution_count": 136,
   "id": "86894b1d-bf1c-4939-932d-dc99540793e9",
   "metadata": {
    "tags": []
   },
   "outputs": [
    {
     "name": "stdout",
     "output_type": "stream",
     "text": [
      "A\n",
      "1.6984573136914551\n",
      "B\n",
      "1.8573598062169654\n",
      "A\n",
      "3.5558171199084203\n",
      "B\n",
      "3.714719612433931\n",
      "A\n",
      "5.413176926125386\n",
      "A\n",
      "7.1116342398168415\n",
      "A\n",
      "8.810091553508297\n",
      "A\n",
      "10.508548867199751\n",
      "A\n",
      "12.207006180891206\n",
      "A\n",
      "13.90546349458266\n",
      "A\n",
      "15.603920808274115\n",
      "A\n",
      "17.30237812196557\n",
      "A\n",
      "19.000835435657027\n",
      "A\n",
      "20.699292749348484\n",
      "reject null\n"
     ]
    }
   ],
   "source": [
    "num=0\n",
    "a=0.05\n",
    "b=0.02\n",
    "pnull=p_hat\n",
    "palt=pb\n",
    "lna=np.log(1/a)\n",
    "lnb=np.log(b)\n",
    "lnlambda=0\n",
    "alpha=(1-b)/a\n",
    "beta=b/(1-a)\n",
    "while True:\n",
    "    print(data['Variant'][num])\n",
    "    if data['Variant'][num]=='B':\n",
    "        lambdax=np.log(palt/pnull)\n",
    "    else:\n",
    "        lambdax=np.log((1-palt)/pnull)\n",
    "    #print(lambdax)\n",
    "    lnlambda+=lambdax\n",
    "    print(lnlambda)\n",
    "    #if num==10:\n",
    "    if lnlambda>alpha:\n",
    "        print('reject null')\n",
    "        break\n",
    "    elif lnlambda<beta:\n",
    "        print('accept null')\n",
    "        break    \n",
    "    num+=1"
   ]
  },
  {
   "cell_type": "code",
   "execution_count": null,
   "id": "eb1d0035-e0ee-4793-a66a-4bf83a1bf50c",
   "metadata": {},
   "outputs": [],
   "source": []
  }
 ],
 "metadata": {
  "kernelspec": {
   "display_name": "Python 3",
   "language": "python",
   "name": "python3"
  },
  "language_info": {
   "codemirror_mode": {
    "name": "ipython",
    "version": 3
   },
   "file_extension": ".py",
   "mimetype": "text/x-python",
   "name": "python",
   "nbconvert_exporter": "python",
   "pygments_lexer": "ipython3",
   "version": "3.8.8"
  }
 },
 "nbformat": 4,
 "nbformat_minor": 5
}
